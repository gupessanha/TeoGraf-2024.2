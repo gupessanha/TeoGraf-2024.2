{
 "cells": [
  {
   "cell_type": "markdown",
   "metadata": {},
   "source": [
    "# Rascunho"
   ]
  },
  {
   "cell_type": "markdown",
   "metadata": {},
   "source": [
    "Pensei na implementação com objetos, porém a entrada ser número atrapalha pois não posso nomear uma variável como número"
   ]
  },
  {
   "cell_type": "markdown",
   "metadata": {},
   "source": [
    "## A fazer\n",
    "\n",
    "- [x] Ler grafo do arquivo de entrada\n",
    "- [x] Gerar arquivo de saída do grafo\n",
    "        - [x] Numero de vertices\n",
    "        - [x] Numero de arestas\n",
    "        - [x] Grau minimo\n",
    "        - [x] Grau medio\n",
    "        - [x] Grau maximo\n",
    "        - [x] Mediana de Grau\n",
    "- [x] Representar grafo com matriz de adjacência\n",
    "- [x] Representar grafo com lista\n",
    "- [x] Representar grafo com vetor de adjacência\n",
    "- [x] Fazer busca em largura e gerar arquivo\n",
    "- [x] Fazer busca em profundidade e gerar arquivo\n",
    "- [x] Determinar distância entre dois vértices\n",
    "- [x] Determinar diâmetro do grafo\n",
    "- [x] Determinar as componentes conexas do grafo\n",
    "\n",
    "- [x] Fazer estudos de caso para cada grafo\n",
    "\n",
    "- [x] Dijkstra com pesos positivos\n",
    "- [ ] Dijkstra com heap"
   ]
  }
 ],
 "metadata": {
  "kernelspec": {
   "display_name": "Python 3",
   "language": "python",
   "name": "python3"
  },
  "language_info": {
   "name": "python",
   "version": "3.12.6"
  }
 },
 "nbformat": 4,
 "nbformat_minor": 2
}
