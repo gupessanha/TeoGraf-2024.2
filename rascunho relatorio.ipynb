{
 "cells": [
  {
   "cell_type": "markdown",
   "metadata": {},
   "source": [
    "# Rascunho"
   ]
  },
  {
   "cell_type": "markdown",
   "metadata": {},
   "source": [
    "Pensei na implementação com objetos, porém a entrada ser número atrapalha pois não posso nomear uma variável como número"
   ]
  },
  {
   "cell_type": "markdown",
   "metadata": {},
   "source": [
    "## A fazer\n",
    "\n",
    "- [x] Ler grafo do arquivo de entrada\n",
    "- [x] Gerar arquivo de saída do grafo\n",
    "        - [x] Numero de vertices\n",
    "        - [x] Numero de arestas\n",
    "        - [x] Grau minimo\n",
    "        - [x] Grau medio\n",
    "        - [x] Grau maximo\n",
    "        - [x] Mediana de Grau\n",
    "- [x] Representar grafo com matriz de adjacência\n",
    "- [ ] Representar grafo com lista\n",
    "- [x] Representar grafo com vetor de adjacência\n",
    "- [ ] Fazer busca em largura e gerar arquivo\n",
    "- [ ] Fazer busca em profundidade e gerar arquivo\n",
    "- [ ] Determinar distância entre dois vértices\n",
    "- [ ] Determinar diâmetro do grafo\n",
    "- [ ] Determinar as componentes conexas do grafo\n",
    "\n",
    "- [ ] Fazer estudos de caso para cada grafo"
   ]
  }
 ],
 "metadata": {
  "kernelspec": {
   "display_name": "Python 3",
   "language": "python",
   "name": "python3"
  },
  "language_info": {
   "name": "python",
   "version": "3.12.6"
  }
 },
 "nbformat": 4,
 "nbformat_minor": 2
}
